{
  "nbformat": 4,
  "nbformat_minor": 0,
  "metadata": {
    "colab": {
      "provenance": []
    },
    "kernelspec": {
      "name": "python3",
      "display_name": "Python 3"
    },
    "language_info": {
      "name": "python"
    }
  },
  "cells": [
    {
      "cell_type": "code",
      "execution_count": 7,
      "metadata": {
        "colab": {
          "base_uri": "https://localhost:8080/"
        },
        "id": "V9qUn-DUX5oM",
        "outputId": "afec01e7-8eef-4373-d596-fcb1953558cb"
      },
      "outputs": [
        {
          "output_type": "stream",
          "name": "stdout",
          "text": [
            "['PBI', 'DA', 'Cse', 'eee', 'mech', 'aero', 30000, 3]\n",
            "<class 'list'>\n",
            "8\n"
          ]
        }
      ],
      "source": [
        "# list\n",
        "\n",
        "check=[\"PBI\",\"DA\",\"Cse\",\"eee\",\"mech\",\"aero\",30000,3]\n",
        "print(check)\n",
        "print(type(check))\n",
        "print(len(check))"
      ]
    },
    {
      "cell_type": "code",
      "source": [
        "name=list((\"kural\",\"da\",30000,3))\n",
        "print(name)\n",
        "print(type(name))\n",
        "print(len(name))"
      ],
      "metadata": {
        "colab": {
          "base_uri": "https://localhost:8080/"
        },
        "id": "Nd_9wcIzacbL",
        "outputId": "545d546c-c677-4b26-bdaa-f53dab94db1a"
      },
      "execution_count": 9,
      "outputs": [
        {
          "output_type": "stream",
          "name": "stdout",
          "text": [
            "['kural', 'da', 30000, 3]\n",
            "<class 'list'>\n",
            "4\n"
          ]
        }
      ]
    },
    {
      "cell_type": "code",
      "source": [
        "name=[\"chair\",\"ball\",50,\"false\",500,\"bus\",30]\n",
        "\n",
        "print(name[0])\n",
        "print(name[3])\n",
        "print(name[2])\n",
        "print(name[1])\n",
        "print(name[4])\n",
        "print(name[5])\n",
        "print(len(name))\n",
        "print(name[-1])\n",
        "print(name[-2])\n",
        "print(name[-3])\n",
        "\n",
        "\n"
      ],
      "metadata": {
        "colab": {
          "base_uri": "https://localhost:8080/"
        },
        "id": "eiSw_Z3zchBL",
        "outputId": "34467cd9-67a1-4bbf-8992-d91e0955793e"
      },
      "execution_count": 20,
      "outputs": [
        {
          "output_type": "stream",
          "name": "stdout",
          "text": [
            "chair\n",
            "false\n",
            "50\n",
            "ball\n",
            "500\n",
            "bus\n",
            "7\n",
            "30\n",
            "bus\n",
            "500\n"
          ]
        }
      ]
    },
    {
      "cell_type": "code",
      "source": [
        "check=[\"da\",\"python\",3000,\"cs\",30,\"eee\",\"kural\"]\n",
        "print(check[1:3])"
      ],
      "metadata": {
        "colab": {
          "base_uri": "https://localhost:8080/"
        },
        "id": "wGhBDdlzi9m5",
        "outputId": "91907b77-823e-4e2e-a568-fdb53a7bf7b4"
      },
      "execution_count": 1,
      "outputs": [
        {
          "output_type": "stream",
          "name": "stdout",
          "text": [
            "['python', 3000]\n"
          ]
        }
      ]
    },
    {
      "cell_type": "code",
      "source": [
        "check=[\"CS\",\"JAVA\",\"PYTHON\",\"DA\",\"FULL STOCK\",\"EEE\"]\n",
        "answer=input(\"search the data\")\n",
        "if answer in check:\n",
        " print(\"yes\")\n",
        "else:\n",
        " print(\"no\")"
      ],
      "metadata": {
        "colab": {
          "base_uri": "https://localhost:8080/"
        },
        "id": "qgBxQ6L5MtE4",
        "outputId": "ff57d37d-e18d-4787-c60e-0a82ef5c7159"
      },
      "execution_count": 5,
      "outputs": [
        {
          "output_type": "stream",
          "name": "stdout",
          "text": [
            "search the dataPYTHON\n",
            "yes\n"
          ]
        }
      ]
    },
    {
      "cell_type": "code",
      "source": [
        "check=[\"kural\",\"murthi\",\"suresh\",\"lingesh\",\"deva\"]\n",
        "print(check)\n",
        "check[3]=\"nishanth\"\n",
        "print(check[3])\n",
        "print(check)"
      ],
      "metadata": {
        "colab": {
          "base_uri": "https://localhost:8080/"
        },
        "id": "pWU0rHQp1lk9",
        "outputId": "77c6be8b-5e8e-4214-d0fc-d1870297a692"
      },
      "execution_count": 8,
      "outputs": [
        {
          "output_type": "stream",
          "name": "stdout",
          "text": [
            "['kural', 'murthi', 'suresh', 'lingesh', 'deva']\n",
            "nishanth\n",
            "['kural', 'murthi', 'suresh', 'nishanth', 'deva']\n"
          ]
        }
      ]
    },
    {
      "cell_type": "code",
      "source": [
        "check=[\"kural\",\"murthi\",\"suresh\",\"lingesh\",\"deva\"]\n",
        "print(check)\n",
        "check [1:3]=[\"jithu\",\"kumar\"]\n",
        "print(check)"
      ],
      "metadata": {
        "colab": {
          "base_uri": "https://localhost:8080/"
        },
        "id": "5CkPy4K5UiTb",
        "outputId": "8e34ff15-0a81-4ba8-d150-bfb668a7b661"
      },
      "execution_count": 14,
      "outputs": [
        {
          "output_type": "stream",
          "name": "stdout",
          "text": [
            "['kural', 'murthi', 'suresh', 'lingesh', 'deva']\n",
            "['kural', 'jithu', 'kumar', 'lingesh', 'deva']\n"
          ]
        }
      ]
    },
    {
      "cell_type": "code",
      "source": [
        "check=[\"kural\",\"murthi\",\"suresh\",\"lingesh\",\"deva\"]\n",
        "check.insert(3,\"naan than inga\")\n",
        "print(check)"
      ],
      "metadata": {
        "colab": {
          "base_uri": "https://localhost:8080/"
        },
        "id": "6d_pvnZjXutQ",
        "outputId": "dcde33b1-1ffe-4036-8207-1288ed795b6e"
      },
      "execution_count": 15,
      "outputs": [
        {
          "output_type": "stream",
          "name": "stdout",
          "text": [
            "['kural', 'murthi', 'suresh', 'naan than inga', 'lingesh', 'deva']\n"
          ]
        }
      ]
    },
    {
      "cell_type": "code",
      "source": [
        "check=[\"kural\",\"murthi\",\"suresh\",\"lingesh\",\"deva\"]\n",
        "check.append(\"abishek\")\n",
        "print(check)\n",
        "check[3]=\"ramesh\""
      ],
      "metadata": {
        "colab": {
          "base_uri": "https://localhost:8080/"
        },
        "id": "IR2gIAVVY2z5",
        "outputId": "c76ec4c8-95b2-4cd8-a802-140287ff26ff"
      },
      "execution_count": 17,
      "outputs": [
        {
          "output_type": "stream",
          "name": "stdout",
          "text": [
            "['kural', 'murthi', 'suresh', 'lingesh', 'deva', 'abishek']\n"
          ]
        }
      ]
    },
    {
      "cell_type": "code",
      "source": [
        "A1=[\"kural\",\"murthi\",\"suresh\",\"lingesh\",\"deva\"]\n",
        "A2=[30000,40000,20,25,115,]\n",
        "print(A1)\n",
        "A1.extend(A2)\n",
        "print(A2)"
      ],
      "metadata": {
        "colab": {
          "base_uri": "https://localhost:8080/"
        },
        "id": "86wFDC7-Z8Vh",
        "outputId": "29db7249-7097-4341-c854-c256134e2437"
      },
      "execution_count": 19,
      "outputs": [
        {
          "output_type": "stream",
          "name": "stdout",
          "text": [
            "['kural', 'murthi', 'suresh', 'lingesh', 'deva']\n",
            "[30000, 40000, 20, 25, 115]\n"
          ]
        }
      ]
    },
    {
      "cell_type": "code",
      "source": [
        "check=[\"kural\",\"murthi\",\"suresh\",\"lingesh\",\"deva\"]\n",
        "#check.remove(\"lingesh\")\n",
        "check.pop(2)\n",
        "print(check)"
      ],
      "metadata": {
        "colab": {
          "base_uri": "https://localhost:8080/"
        },
        "id": "pqCIWUAYaw56",
        "outputId": "e4bb2265-ee3b-41f8-d396-ef12ec3fb091"
      },
      "execution_count": 22,
      "outputs": [
        {
          "output_type": "stream",
          "name": "stdout",
          "text": [
            "['kural', 'murthi', 'lingesh', 'deva']\n"
          ]
        }
      ]
    },
    {
      "cell_type": "code",
      "source": [
        "check=[\"kural\",\"murthi\",\"suresh\",\"lingesh\",\"deva\"]\n",
        "for i in check:\n",
        "  print(i)"
      ],
      "metadata": {
        "colab": {
          "base_uri": "https://localhost:8080/"
        },
        "id": "vzrOj2bdgKJQ",
        "outputId": "9d3767bf-ce47-43df-ba59-fe81d5bf048e"
      },
      "execution_count": 24,
      "outputs": [
        {
          "output_type": "stream",
          "name": "stdout",
          "text": [
            "kural\n",
            "murthi\n",
            "suresh\n",
            "lingesh\n",
            "deva\n"
          ]
        }
      ]
    },
    {
      "cell_type": "code",
      "source": [
        "check=[\"kural\",\"murthi\",\"suresh\",\"lingesh\",\"deva\"]\n",
        "\n",
        "for i in range(len(check)):\n",
        "  print(i,\" = \" ,check[i])"
      ],
      "metadata": {
        "colab": {
          "base_uri": "https://localhost:8080/"
        },
        "id": "Uqi6K-TIgehX",
        "outputId": "6c6f22bf-d514-4f93-ed22-4bc215870346"
      },
      "execution_count": 28,
      "outputs": [
        {
          "output_type": "stream",
          "name": "stdout",
          "text": [
            "0  =  kural\n",
            "1  =  murthi\n",
            "2  =  suresh\n",
            "3  =  lingesh\n",
            "4  =  deva\n"
          ]
        }
      ]
    },
    {
      "cell_type": "code",
      "source": [
        "check=[\"kural\",\"murthi\",\"suresh\",\"lingesh\",\"deva\",\"AMUTHAN\",\"RAJECH\",\"KA\"]\n",
        "#check.sort()\n",
        "#check.sort(reverse=True)\n",
        "check.sort(key=str.lower)\n",
        "print(check)"
      ],
      "metadata": {
        "colab": {
          "base_uri": "https://localhost:8080/"
        },
        "id": "9XMXtNrZjIkJ",
        "outputId": "eef80d5a-fa4d-4ac6-cbc5-ca53e53c4f54"
      },
      "execution_count": 31,
      "outputs": [
        {
          "output_type": "stream",
          "name": "stdout",
          "text": [
            "['AMUTHAN', 'deva', 'KA', 'kural', 'lingesh', 'murthi', 'RAJECH', 'suresh']\n"
          ]
        }
      ]
    },
    {
      "cell_type": "code",
      "source": [
        "K1=[\"kural\",\"murthi\"]\n",
        "K2=[1000,2000]\n",
        "#K1.extend(K2)\n",
        "#answer=K1+K2\n",
        "for i in K2:\n",
        "  K1.append(i)\n",
        "\n",
        "print(K1)\n"
      ],
      "metadata": {
        "colab": {
          "base_uri": "https://localhost:8080/"
        },
        "id": "jbqtnzSHmSqy",
        "outputId": "be190cf3-caeb-4044-a876-566efb8a2309"
      },
      "execution_count": 45,
      "outputs": [
        {
          "output_type": "stream",
          "name": "stdout",
          "text": [
            "['kural', 'murthi', 1000, 2000]\n"
          ]
        }
      ]
    },
    {
      "cell_type": "code",
      "source": [
        "check=[\"kural\",\"murthi\",\"suresh\",\"lingesh\",\"deva\",\"deva\",\"deva\"]\n",
        "answer=check.count(\"deva\")\n",
        "print(answer)\n"
      ],
      "metadata": {
        "colab": {
          "base_uri": "https://localhost:8080/"
        },
        "id": "cIpuTJT6o_dN",
        "outputId": "75812b94-fc6a-4743-b55f-f54791f705b3"
      },
      "execution_count": 47,
      "outputs": [
        {
          "output_type": "stream",
          "name": "stdout",
          "text": [
            "3\n"
          ]
        }
      ]
    }
  ]
}