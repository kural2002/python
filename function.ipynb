{
  "nbformat": 4,
  "nbformat_minor": 0,
  "metadata": {
    "colab": {
      "provenance": []
    },
    "kernelspec": {
      "name": "python3",
      "display_name": "Python 3"
    },
    "language_info": {
      "name": "python"
    }
  },
  "cells": [
    {
      "cell_type": "code",
      "execution_count": 2,
      "metadata": {
        "colab": {
          "base_uri": "https://localhost:8080/"
        },
        "id": "FAB5ztUv_XHU",
        "outputId": "f58dc321-b922-486f-9bac-06ab8dea4da1"
      },
      "outputs": [
        {
          "output_type": "stream",
          "name": "stdout",
          "text": [
            "hello kural\n"
          ]
        }
      ],
      "source": [
        "# functions\n",
        "\n",
        "def display():\n",
        "  print(\"hello kural\")\n",
        "display()"
      ]
    },
    {
      "cell_type": "code",
      "source": [
        "#without any parameters\n",
        "\n",
        "def add():\n",
        "  a=10\n",
        "  b=78\n",
        "  c=a+b\n",
        "  print(c)\n",
        "add()\n",
        "\n"
      ],
      "metadata": {
        "colab": {
          "base_uri": "https://localhost:8080/"
        },
        "id": "Agh_CqLfDVCh",
        "outputId": "18c7c3d9-9987-482d-9cbb-57dd675bb0a6"
      },
      "execution_count": 4,
      "outputs": [
        {
          "output_type": "stream",
          "name": "stdout",
          "text": [
            "88\n"
          ]
        }
      ]
    },
    {
      "cell_type": "code",
      "source": [
        "def add():\n",
        "  a=63\n",
        "  b=29\n",
        "  return a+b\n",
        "  print(add())\n"
      ],
      "metadata": {
        "id": "nGSBhIRrFnU6"
      },
      "execution_count": 9,
      "outputs": []
    },
    {
      "cell_type": "code",
      "source": [
        "# with parameter\n",
        "\n",
        "def add(a,b,c,d,e,f):\n",
        "  sum=a+b+c+d+e+f\n",
        "  avg=sum/6\n",
        "  print(sum)\n",
        "  print(avg)\n",
        "add(99,89,79,69,59,49)\n",
        "\n",
        "\n",
        "\n",
        "\n",
        "\n"
      ],
      "metadata": {
        "colab": {
          "base_uri": "https://localhost:8080/"
        },
        "id": "SvN6-IaJHipw",
        "outputId": "c10b7919-c84b-42fd-cb3e-0295c139de6d"
      },
      "execution_count": 25,
      "outputs": [
        {
          "output_type": "stream",
          "name": "stdout",
          "text": [
            "444\n",
            "74.0\n"
          ]
        }
      ]
    },
    {
      "cell_type": "code",
      "source": [
        "def add(a,b,c,d,e,f,):\n",
        "  total=a+b+c+d+e+f\n",
        "  return total\n",
        "print(add(25,76,42,2,65,4))"
      ],
      "metadata": {
        "colab": {
          "base_uri": "https://localhost:8080/"
        },
        "id": "EWx6MHAPQa6E",
        "outputId": "fd10d8dd-2d18-41a0-b0b9-6b0fad0086ab"
      },
      "execution_count": 23,
      "outputs": [
        {
          "output_type": "stream",
          "name": "stdout",
          "text": [
            "214\n"
          ]
        }
      ]
    },
    {
      "cell_type": "code",
      "source": [
        "def add(a,b,c,d):\n",
        "  print(a+b+c+d)\n",
        "\n",
        "def sub(a,b,c,d):\n",
        "  print(a-b-c-d)\n",
        "\n",
        "def mul(a,b,c,d):\n",
        "  print(a*b*c*d)\n",
        "\n",
        "add(42,27,0,0)\n",
        "sub(100,28,2,1)\n",
        "mul(6,8,9,6)"
      ],
      "metadata": {
        "colab": {
          "base_uri": "https://localhost:8080/"
        },
        "id": "YkwKeOhWTXLA",
        "outputId": "11f3d87d-d077-4123-aab3-57692daad38b"
      },
      "execution_count": 26,
      "outputs": [
        {
          "output_type": "stream",
          "name": "stdout",
          "text": [
            "69\n",
            "69\n",
            "2592\n"
          ]
        }
      ]
    },
    {
      "cell_type": "code",
      "source": [
        "# * arguments\n",
        "\n",
        "def display(*subject):\n",
        "  print(subject)\n",
        "  print(subject[0])\n",
        "  print(subject[1])\n",
        "  print(subject[2])\n",
        "  print(subject[3])\n",
        "\n",
        "  display(\"commerce\",\"computer sci\",\"bio\",\"eco\")"
      ],
      "metadata": {
        "id": "y268RlxYW5br"
      },
      "execution_count": 34,
      "outputs": []
    },
    {
      "cell_type": "code",
      "source": [
        "#key arguments\n",
        "\n",
        "def display(a,b,c,d,e):\n",
        "  print(a)\n",
        "  print(b)\n",
        "  print(c)\n",
        "  print(d)\n",
        "  print(e)\n",
        "display(a=\"cs\",b=\"ece\",c=\"eee\",d=\"mech\",e=\"arts\")\n"
      ],
      "metadata": {
        "colab": {
          "base_uri": "https://localhost:8080/"
        },
        "id": "CkYZgNwaX6v5",
        "outputId": "8c2b6d5b-2da9-4a17-ff8d-8cc748ae55e3"
      },
      "execution_count": 36,
      "outputs": [
        {
          "output_type": "stream",
          "name": "stdout",
          "text": [
            "cs\n",
            "ece\n",
            "eee\n",
            "mech\n",
            "arts\n"
          ]
        }
      ]
    },
    {
      "cell_type": "code",
      "source": [
        "#**keywoed argument\n",
        "\n",
        "def display(**subject):\n",
        "  print(subject)\n",
        "  print(subject[\"a\"])\n",
        "  print(subject[\"b\"])\n",
        "  print(subject[\"c\"])\n",
        "  print(subject[\"d\"])\n",
        "display(a=\"tamil\",b=\"english\",c=\"math\",d=\"science\")\n",
        "\n"
      ],
      "metadata": {
        "colab": {
          "base_uri": "https://localhost:8080/"
        },
        "id": "icajptrRasZG",
        "outputId": "144d2010-0422-424a-8ff9-08fa674f7683"
      },
      "execution_count": 37,
      "outputs": [
        {
          "output_type": "stream",
          "name": "stdout",
          "text": [
            "{'a': 'tamil', 'b': 'english', 'c': 'math', 'd': 'science'}\n",
            "tamil\n",
            "english\n",
            "math\n",
            "science\n"
          ]
        }
      ]
    },
    {
      "cell_type": "code",
      "source": [
        "def display(User=\"vaa da vena\"):\n",
        "  print(\"vanga vilaiyaduvom :\" +User)\n",
        "display(\"kural\")\n",
        "display(\"suresh\")\n",
        "display()\n",
        "display(\"nishanth\")\n",
        "display()\n",
        "\n"
      ],
      "metadata": {
        "colab": {
          "base_uri": "https://localhost:8080/"
        },
        "id": "KkOITtndb7fH",
        "outputId": "2c88fc0b-1d29-490f-91c0-96e56a80c832"
      },
      "execution_count": 41,
      "outputs": [
        {
          "output_type": "stream",
          "name": "stdout",
          "text": [
            "vanga vilaiyaduvom :kural\n",
            "vanga vilaiyaduvom :suresh\n",
            "vanga vilaiyaduvom :vaa da vena\n",
            "vanga vilaiyaduvom :nishanth\n",
            "vanga vilaiyaduvom :vaa da vena\n"
          ]
        }
      ]
    },
    {
      "cell_type": "code",
      "source": [
        "def factorial(m):\n",
        "  if m==1:\n",
        "    return 1\n",
        "  else:\n",
        "    return m*factorial(m-1)\n",
        "print(factorial(10))"
      ],
      "metadata": {
        "colab": {
          "base_uri": "https://localhost:8080/"
        },
        "id": "1py2KeKGi2z_",
        "outputId": "180d97f3-0b69-4910-b9cc-dc0300fad580"
      },
      "execution_count": 9,
      "outputs": [
        {
          "output_type": "stream",
          "name": "stdout",
          "text": [
            "3628800\n"
          ]
        }
      ]
    },
    {
      "cell_type": "code",
      "source": [
        "def sum(k):\n",
        "  if k==0:\n",
        "    return 0\n",
        "  else:\n",
        "    return k+sum(k-1)\n",
        "print(sum(5))"
      ],
      "metadata": {
        "colab": {
          "base_uri": "https://localhost:8080/"
        },
        "id": "ZtmyDJlRkJK6",
        "outputId": "c4be0dc5-e23c-42d3-eee8-1bbdab4c7b77"
      },
      "execution_count": 11,
      "outputs": [
        {
          "output_type": "stream",
          "name": "stdout",
          "text": [
            "15\n"
          ]
        }
      ]
    }
  ]
}