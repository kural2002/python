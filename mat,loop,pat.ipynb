{
  "nbformat": 4,
  "nbformat_minor": 0,
  "metadata": {
    "colab": {
      "provenance": []
    },
    "kernelspec": {
      "name": "python3",
      "display_name": "Python 3"
    },
    "language_info": {
      "name": "python"
    }
  },
  "cells": [
    {
      "cell_type": "code",
      "execution_count": 4,
      "metadata": {
        "colab": {
          "base_uri": "https://localhost:8080/"
        },
        "id": "B7fkf8VWcQjQ",
        "outputId": "09b5d33e-88ea-46f5-8aa8-2c217c1e4822"
      },
      "outputs": [
        {
          "output_type": "stream",
          "name": "stdout",
          "text": [
            "enter the month 1 to 12 13\n",
            "invalid month (enter the correct month)\n"
          ]
        }
      ],
      "source": [
        "# matching\n",
        "\n",
        "month=int(input(\"enter the month 1 to 12 \"))\n",
        "\n",
        "match month:\n",
        "  case 1:\n",
        "    print(\"jan\")\n",
        "  case 2:\n",
        "    print(\"feb\")\n",
        "  case 3:\n",
        "    print(\"mar\")\n",
        "  case 4:\n",
        "    print(\"apr\")\n",
        "  case 5:\n",
        "    print(\"may\")\n",
        "  case 6:\n",
        "    print(\"june\")\n",
        "  case 7:\n",
        "    print(\"jul\")\n",
        "  case 8:\n",
        "    print(\"aug\")\n",
        "  case 9:\n",
        "    print(\"sep\")\n",
        "  case 10:\n",
        "    print(\"oct\")\n",
        "  case 11:\n",
        "    print(\"nov\")\n",
        "  case 12:\n",
        "    print(\"dec\")\n",
        "  case _:\n",
        "    print(\"invalid month (enter the correct month)\")"
      ]
    },
    {
      "cell_type": "code",
      "source": [
        "# looping\n",
        "# while\n",
        "\n",
        "i=1\n",
        "while (i<=5):\n",
        "  i+=1\n",
        "  print(\"hello kural\")\n",
        "\n"
      ],
      "metadata": {
        "colab": {
          "base_uri": "https://localhost:8080/"
        },
        "id": "JeruBqqOfqKe",
        "outputId": "8bf41dcc-47b4-4b48-a151-52345a7d1a27"
      },
      "execution_count": 17,
      "outputs": [
        {
          "output_type": "stream",
          "name": "stdout",
          "text": [
            "hello kural\n",
            "hello kural\n",
            "hello kural\n",
            "hello kural\n",
            "hello kural\n"
          ]
        }
      ]
    },
    {
      "cell_type": "code",
      "source": [
        "i=5\n",
        "while (i<=10):\n",
        "# i+=5\n",
        "  print(i)\n",
        "  i+=5"
      ],
      "metadata": {
        "colab": {
          "base_uri": "https://localhost:8080/"
        },
        "id": "x0_xoPSKds9o",
        "outputId": "543ef09b-7537-4b42-ade6-feef2d2a9c5d"
      },
      "execution_count": 33,
      "outputs": [
        {
          "output_type": "stream",
          "name": "stdout",
          "text": [
            "5\n",
            "10\n"
          ]
        }
      ]
    },
    {
      "cell_type": "code",
      "source": [
        "i=1\n",
        "while(i<=10):\n",
        "  print(i,\"* 7=\",i*7)\n",
        "  i+=1\n",
        "\n"
      ],
      "metadata": {
        "colab": {
          "base_uri": "https://localhost:8080/"
        },
        "id": "VBp1jCDRk2sv",
        "outputId": "aa430b96-48cc-46aa-c377-7c7047fee04c"
      },
      "execution_count": 32,
      "outputs": [
        {
          "output_type": "stream",
          "name": "stdout",
          "text": [
            "1 * 7= 7\n",
            "2 * 7= 14\n",
            "3 * 7= 21\n",
            "4 * 7= 28\n",
            "5 * 7= 35\n",
            "6 * 7= 42\n",
            "7 * 7= 49\n",
            "8 * 7= 56\n",
            "9 * 7= 63\n",
            "10 * 7= 70\n"
          ]
        }
      ]
    },
    {
      "cell_type": "code",
      "source": [
        "# for looping\n",
        "\n",
        "for i in range(1,21):\n",
        "  print(i,\"* 7=\",i*7)"
      ],
      "metadata": {
        "colab": {
          "base_uri": "https://localhost:8080/"
        },
        "id": "D1f8Cym9nr15",
        "outputId": "3fe4018a-bdb5-42a8-87da-e15d41c87a71"
      },
      "execution_count": 34,
      "outputs": [
        {
          "output_type": "stream",
          "name": "stdout",
          "text": [
            "1 * 7= 7\n",
            "2 * 7= 14\n",
            "3 * 7= 21\n",
            "4 * 7= 28\n",
            "5 * 7= 35\n",
            "6 * 7= 42\n",
            "7 * 7= 49\n",
            "8 * 7= 56\n",
            "9 * 7= 63\n",
            "10 * 7= 70\n",
            "11 * 7= 77\n",
            "12 * 7= 84\n",
            "13 * 7= 91\n",
            "14 * 7= 98\n",
            "15 * 7= 105\n",
            "16 * 7= 112\n",
            "17 * 7= 119\n",
            "18 * 7= 126\n",
            "19 * 7= 133\n",
            "20 * 7= 140\n"
          ]
        }
      ]
    },
    {
      "cell_type": "code",
      "source": [
        "for i in range(1,6):\n",
        "  print(\"hello\")"
      ],
      "metadata": {
        "colab": {
          "base_uri": "https://localhost:8080/"
        },
        "id": "DIwHl056pUC8",
        "outputId": "ed7113fc-5bac-49ba-b711-48db1eebecf3"
      },
      "execution_count": 35,
      "outputs": [
        {
          "output_type": "stream",
          "name": "stdout",
          "text": [
            "hello\n",
            "hello\n",
            "hello\n",
            "hello\n",
            "hello\n"
          ]
        }
      ]
    },
    {
      "cell_type": "code",
      "source": [
        "for i in range(1,11):\n",
        "  if(i%2==0):\n",
        "    print(i,\"- even number\")\n",
        "  else:\n",
        "    print(i,\"- odd number\")"
      ],
      "metadata": {
        "colab": {
          "base_uri": "https://localhost:8080/"
        },
        "id": "EmVKF6Azq_Ug",
        "outputId": "3cdf8195-77db-4a5b-a282-e63c0cd7f1a4"
      },
      "execution_count": 39,
      "outputs": [
        {
          "output_type": "stream",
          "name": "stdout",
          "text": [
            "1 - odd number\n",
            "2 - even number\n",
            "3 - odd number\n",
            "4 - even number\n",
            "5 - odd number\n",
            "6 - even number\n",
            "7 - odd number\n",
            "8 - even number\n",
            "9 - odd number\n",
            "10 - even number\n"
          ]
        }
      ]
    },
    {
      "cell_type": "code",
      "source": [
        "# pattern\n",
        "\n",
        "for i in range(1,6):\n",
        "  for j in range(1,6):\n",
        "    print(i,end= \" \")\n",
        "  print()"
      ],
      "metadata": {
        "colab": {
          "base_uri": "https://localhost:8080/"
        },
        "id": "6R3AccBisrXB",
        "outputId": "383cd95f-c751-46b3-d27a-268e60fa63ff"
      },
      "execution_count": 47,
      "outputs": [
        {
          "output_type": "stream",
          "name": "stdout",
          "text": [
            "1 1 1 1 1 \n",
            "2 2 2 2 2 \n",
            "3 3 3 3 3 \n",
            "4 4 4 4 4 \n",
            "5 5 5 5 5 \n"
          ]
        }
      ]
    },
    {
      "cell_type": "code",
      "source": [
        "for i in range(1,6):\n",
        "  for j in range(1,6):\n",
        "    print(j,end= \" \")\n",
        "  print()"
      ],
      "metadata": {
        "colab": {
          "base_uri": "https://localhost:8080/"
        },
        "id": "gyQZWhpGutOP",
        "outputId": "d5a59e29-8c9b-4f1e-d20e-bcc33fa30e60"
      },
      "execution_count": 48,
      "outputs": [
        {
          "output_type": "stream",
          "name": "stdout",
          "text": [
            "1 2 3 4 5 \n",
            "1 2 3 4 5 \n",
            "1 2 3 4 5 \n",
            "1 2 3 4 5 \n",
            "1 2 3 4 5 \n"
          ]
        }
      ]
    },
    {
      "cell_type": "code",
      "source": [
        "for i in range(1,6):\n",
        "  for j in range(1,6):\n",
        "    print(\"&\",end= \" \")\n",
        "  print()"
      ],
      "metadata": {
        "colab": {
          "base_uri": "https://localhost:8080/"
        },
        "id": "7hKthYqAu09p",
        "outputId": "739f127f-1675-4abe-e949-226021ac337b"
      },
      "execution_count": 50,
      "outputs": [
        {
          "output_type": "stream",
          "name": "stdout",
          "text": [
            "& & & & & \n",
            "& & & & & \n",
            "& & & & & \n",
            "& & & & & \n",
            "& & & & & \n"
          ]
        }
      ]
    },
    {
      "cell_type": "code",
      "source": [
        "for i in range (ord(\"a\"),ord(\"f\")):\n",
        "  for j in range (ord(\"a\"),ord(\"f\")):\n",
        "    print(chr(i),end= \" \")\n",
        "  print()\n",
        ""
      ],
      "metadata": {
        "colab": {
          "base_uri": "https://localhost:8080/"
        },
        "id": "DVy2oBRevICl",
        "outputId": "3229c679-aed4-420d-972a-ceb709c71cb5"
      },
      "execution_count": 62,
      "outputs": [
        {
          "output_type": "stream",
          "name": "stdout",
          "text": [
            "a a a a a \n",
            "b b b b b \n",
            "c c c c c \n",
            "d d d d d \n",
            "e e e e e \n"
          ]
        }
      ]
    },
    {
      "cell_type": "code",
      "source": [
        "def square_pattern(rows):\n",
        "    for i in range(rows):\n",
        "        for j in range(rows):\n",
        "            print(chr(65 + i), end=\"\")\n",
        "        print()\n",
        "\n",
        "square_pattern(5)\n"
      ],
      "metadata": {
        "colab": {
          "base_uri": "https://localhost:8080/"
        },
        "id": "EXjOYqoyxny6",
        "outputId": "46bd42b0-e6c5-40ed-bbd0-f986339f02ec"
      },
      "execution_count": 59,
      "outputs": [
        {
          "output_type": "stream",
          "name": "stdout",
          "text": [
            "AAAAA\n",
            "BBBBB\n",
            "CCCCC\n",
            "DDDDD\n",
            "EEEEE\n"
          ]
        }
      ]
    }
  ]
}