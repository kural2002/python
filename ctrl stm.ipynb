{
  "nbformat": 4,
  "nbformat_minor": 0,
  "metadata": {
    "colab": {
      "provenance": []
    },
    "kernelspec": {
      "name": "python3",
      "display_name": "Python 3"
    },
    "language_info": {
      "name": "python"
    }
  },
  "cells": [
    {
      "cell_type": "code",
      "execution_count": 8,
      "metadata": {
        "colab": {
          "base_uri": "https://localhost:8080/"
        },
        "id": "7geNzaemQPbt",
        "outputId": "7c32a2cd-2106-4346-84f7-7f1092673266"
      },
      "outputs": [
        {
          "output_type": "stream",
          "name": "stdout",
          "text": [
            "enter the age12\n",
            "child\n"
          ]
        }
      ],
      "source": [
        "# control statement\n",
        "# if..... condition\n",
        "\n",
        "age=int(input(\"enter the age\"))\n",
        "if age>=18:\n",
        "  print(\"adult\")\n",
        "if age<18:\n",
        "    print(\"child\")\n",
        "\n",
        "\n",
        ""
      ]
    },
    {
      "cell_type": "code",
      "source": [
        "# if....else\n",
        "\n",
        "speed=int(input(\"enter the speed\"))\n",
        "if speed<=60:\n",
        "  print(\"normal speed\")\n",
        "else:\n",
        "  print(\"fine\")"
      ],
      "metadata": {
        "colab": {
          "base_uri": "https://localhost:8080/"
        },
        "id": "QCzknkYgTA95",
        "outputId": "7435c695-0623-4039-916a-4682d0b3b787"
      },
      "execution_count": 12,
      "outputs": [
        {
          "output_type": "stream",
          "name": "stdout",
          "text": [
            "enter the speed80\n",
            "fine\n"
          ]
        }
      ]
    },
    {
      "cell_type": "code",
      "source": [
        "num=int(input(\"enter the number\"))\n",
        "if num%2==0:\n",
        "  print(\"odd num\")\n",
        "else:\n",
        "    print(\"even\")"
      ],
      "metadata": {
        "colab": {
          "base_uri": "https://localhost:8080/"
        },
        "id": "6ucuGwuBUnJP",
        "outputId": "084c3b63-0461-48bb-b859-7a1f06961577"
      },
      "execution_count": 16,
      "outputs": [
        {
          "output_type": "stream",
          "name": "stdout",
          "text": [
            "enter the number19\n",
            "even\n"
          ]
        }
      ]
    },
    {
      "cell_type": "code",
      "source": [
        "love=(input(\"enter the love\"))\n",
        "if love==(\"ok\") or love==(\"yes\") or love==(\"oyo\") or love==(\"marry me\") or love==(\"love u too\"):\n",
        "  print(\"love accepted\")\n",
        "else:\n",
        "    print(\"love rejected\")"
      ],
      "metadata": {
        "colab": {
          "base_uri": "https://localhost:8080/"
        },
        "id": "ejBfBreVV66y",
        "outputId": "30dcf4fc-9b83-4bd8-f85a-823fff2a209d"
      },
      "execution_count": 19,
      "outputs": [
        {
          "output_type": "stream",
          "name": "stdout",
          "text": [
            "enter the loveno\n",
            "love rejected\n"
          ]
        }
      ]
    },
    {
      "cell_type": "code",
      "source": [
        "# ladder if...else\n",
        "\n",
        "#GRADING\n",
        "\n",
        "total=int(input(\"enter the total\"))\n",
        "if (total>90):\n",
        "  print(\"A+\")\n",
        "elif(total>=90):\n",
        "  print(\"A\")\n",
        "elif(total>=80):\n",
        "  print(\"B+\")\n",
        "elif(total>=65):\n",
        "  print(\"B\")\n",
        "elif(total>=55):\n",
        "  print(\"C+\")\n",
        "elif(total>=50):\n",
        "  print(\"C\")\n",
        "elif(total>=45):\n",
        "  print(\"D+\")\n",
        "elif(total>=40):\n",
        "  print(\"D\")\n",
        "else:\n",
        "  print(\"fail\")\n"
      ],
      "metadata": {
        "colab": {
          "base_uri": "https://localhost:8080/"
        },
        "id": "NBl9o9ojZWvM",
        "outputId": "20536899-cfae-4ade-bedf-749e44c6a40d"
      },
      "execution_count": 25,
      "outputs": [
        {
          "output_type": "stream",
          "name": "stdout",
          "text": [
            "enter the total72\n",
            "B\n"
          ]
        }
      ]
    },
    {
      "cell_type": "code",
      "source": [
        "# nested if....else\n",
        "\n",
        "username=(input(\"enter the username\"))\n",
        "password=int(input(\"enter the password\"))\n",
        "\n",
        "if username==(\"kural\"):\n",
        "   if password==(\"1234\"):\n",
        "    print(\"correct\")\n",
        "   else:\n",
        "    print(\"incorrect\")\n",
        "else:\n",
        "  print(\"not found\")"
      ],
      "metadata": {
        "colab": {
          "base_uri": "https://localhost:8080/"
        },
        "id": "i2p6YNDVfRFQ",
        "outputId": "47e16060-0679-43b4-9f94-1a5da530830c"
      },
      "execution_count": 30,
      "outputs": [
        {
          "output_type": "stream",
          "name": "stdout",
          "text": [
            "enter the usernamekural\n",
            "enter the password1547\n",
            "incorrect\n"
          ]
        }
      ]
    },
    {
      "cell_type": "code",
      "source": [],
      "metadata": {
        "id": "pMHp3DeHVfgg"
      },
      "execution_count": null,
      "outputs": []
    }
  ]
}