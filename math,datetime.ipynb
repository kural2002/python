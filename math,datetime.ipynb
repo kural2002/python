{
  "nbformat": 4,
  "nbformat_minor": 0,
  "metadata": {
    "colab": {
      "provenance": []
    },
    "kernelspec": {
      "name": "python3",
      "display_name": "Python 3"
    },
    "language_info": {
      "name": "python"
    }
  },
  "cells": [
    {
      "cell_type": "code",
      "execution_count": 1,
      "metadata": {
        "colab": {
          "base_uri": "https://localhost:8080/"
        },
        "id": "sw7YQ3MNORmu",
        "outputId": "95e820eb-bb29-49f8-cb78-405ff492ab95"
      },
      "outputs": [
        {
          "output_type": "stream",
          "name": "stdout",
          "text": [
            "10\n"
          ]
        }
      ],
      "source": [
        "#math\n",
        "\n",
        "answer=min(10,20,30,23,12)\n",
        "print(answer)"
      ]
    },
    {
      "cell_type": "code",
      "source": [
        "answer=max(10,20,30,23,12)\n",
        "print(answer)"
      ],
      "metadata": {
        "colab": {
          "base_uri": "https://localhost:8080/"
        },
        "id": "OI5g-aVPP9-_",
        "outputId": "243bade7-9aae-4df9-871d-6d440f997320"
      },
      "execution_count": 2,
      "outputs": [
        {
          "output_type": "stream",
          "name": "stdout",
          "text": [
            "30\n"
          ]
        }
      ]
    },
    {
      "cell_type": "code",
      "source": [
        "answer=abs(40-90)\n",
        "print(answer)"
      ],
      "metadata": {
        "colab": {
          "base_uri": "https://localhost:8080/"
        },
        "id": "SuBPwEoVUqOY",
        "outputId": "f2c71cde-5db3-49fa-f1a3-007d1326b774"
      },
      "execution_count": 4,
      "outputs": [
        {
          "output_type": "stream",
          "name": "stdout",
          "text": [
            "50\n"
          ]
        }
      ]
    },
    {
      "cell_type": "code",
      "source": [
        "answer=pow(24,2)\n",
        "print(answer)"
      ],
      "metadata": {
        "colab": {
          "base_uri": "https://localhost:8080/"
        },
        "id": "auqqiZOuWSHo",
        "outputId": "aab20ab9-03d4-4aa6-91b7-4cf31cfa3f13"
      },
      "execution_count": 8,
      "outputs": [
        {
          "output_type": "stream",
          "name": "stdout",
          "text": [
            "576\n"
          ]
        }
      ]
    },
    {
      "cell_type": "code",
      "source": [
        "answer=24*24\n",
        "print(answer)"
      ],
      "metadata": {
        "colab": {
          "base_uri": "https://localhost:8080/"
        },
        "id": "XXpELAoyWjeI",
        "outputId": "dbd81c0b-916f-4658-beb1-da0edcf7ee2a"
      },
      "execution_count": 7,
      "outputs": [
        {
          "output_type": "stream",
          "name": "stdout",
          "text": [
            "576\n"
          ]
        }
      ]
    },
    {
      "cell_type": "code",
      "source": [
        "import math\n",
        "print(math.gcd(20,25))\n"
      ],
      "metadata": {
        "colab": {
          "base_uri": "https://localhost:8080/"
        },
        "id": "-8_kN9mCYJQf",
        "outputId": "f7852e43-d5a4-464d-983a-b59c1e799c9c"
      },
      "execution_count": 10,
      "outputs": [
        {
          "output_type": "stream",
          "name": "stdout",
          "text": [
            "5\n"
          ]
        }
      ]
    },
    {
      "cell_type": "code",
      "source": [
        "import math\n",
        "print(math.sqrt(25))\n"
      ],
      "metadata": {
        "colab": {
          "base_uri": "https://localhost:8080/"
        },
        "id": "JngK1s--Z7iS",
        "outputId": "1b3640ee-f12a-4a6d-a01c-73faa8f5dd69"
      },
      "execution_count": 11,
      "outputs": [
        {
          "output_type": "stream",
          "name": "stdout",
          "text": [
            "5.0\n"
          ]
        }
      ]
    },
    {
      "cell_type": "code",
      "source": [
        "from math import sqrt\n",
        "import math\n",
        "print(math.isqrt(25))\n",
        "print(math.sqrt(25))"
      ],
      "metadata": {
        "colab": {
          "base_uri": "https://localhost:8080/"
        },
        "id": "JN6GlDbEaftV",
        "outputId": "46dfe3dd-5f14-450a-dee6-b50bde8bf875"
      },
      "execution_count": 13,
      "outputs": [
        {
          "output_type": "stream",
          "name": "stdout",
          "text": [
            "5\n",
            "5.0\n"
          ]
        }
      ]
    },
    {
      "cell_type": "code",
      "source": [
        "import math\n",
        "print(math.ceil(2.5))"
      ],
      "metadata": {
        "colab": {
          "base_uri": "https://localhost:8080/"
        },
        "id": "NHdrHIWgbWx3",
        "outputId": "31b4b9fb-bdc3-4db1-edb6-2aca26714c6d"
      },
      "execution_count": 14,
      "outputs": [
        {
          "output_type": "stream",
          "name": "stdout",
          "text": [
            "3\n"
          ]
        }
      ]
    },
    {
      "cell_type": "code",
      "source": [
        "import math\n",
        "print(math.floor(2.1))"
      ],
      "metadata": {
        "colab": {
          "base_uri": "https://localhost:8080/"
        },
        "id": "E8EqPmuRb02f",
        "outputId": "3d5ae2b9-e677-4c7a-ef7f-8cda64e37c87"
      },
      "execution_count": 15,
      "outputs": [
        {
          "output_type": "stream",
          "name": "stdout",
          "text": [
            "2\n"
          ]
        }
      ]
    },
    {
      "cell_type": "code",
      "source": [
        "import math\n",
        "print(math.pi)"
      ],
      "metadata": {
        "colab": {
          "base_uri": "https://localhost:8080/"
        },
        "id": "SV9ulw8KfdF_",
        "outputId": "42eb072a-5d71-4f29-a5ec-ff0a3271d5e3"
      },
      "execution_count": 16,
      "outputs": [
        {
          "output_type": "stream",
          "name": "stdout",
          "text": [
            "3.141592653589793\n"
          ]
        }
      ]
    },
    {
      "cell_type": "code",
      "source": [
        "import math\n",
        "print(math.exp(40))"
      ],
      "metadata": {
        "colab": {
          "base_uri": "https://localhost:8080/"
        },
        "id": "4WJ9OP8Cf4zY",
        "outputId": "ad4a617f-df05-4da1-cb35-bb3a3de51200"
      },
      "execution_count": 18,
      "outputs": [
        {
          "output_type": "stream",
          "name": "stdout",
          "text": [
            "2.3538526683702e+17\n"
          ]
        }
      ]
    },
    {
      "cell_type": "code",
      "source": [
        "import math\n",
        "print(math.acos(0.25))"
      ],
      "metadata": {
        "colab": {
          "base_uri": "https://localhost:8080/"
        },
        "id": "X3YpQElEgDWU",
        "outputId": "1b6ce2f6-3ea8-44f1-a9c1-1b2ed74fe5d3"
      },
      "execution_count": 20,
      "outputs": [
        {
          "output_type": "stream",
          "name": "stdout",
          "text": [
            "1.318116071652818\n"
          ]
        }
      ]
    },
    {
      "cell_type": "code",
      "source": [
        "import math\n",
        "print(math.factorial(4))"
      ],
      "metadata": {
        "colab": {
          "base_uri": "https://localhost:8080/"
        },
        "id": "_i-p7ScUgUla",
        "outputId": "72adab64-adc3-4fd3-b1ea-6d8007cd1889"
      },
      "execution_count": 21,
      "outputs": [
        {
          "output_type": "stream",
          "name": "stdout",
          "text": [
            "24\n"
          ]
        }
      ]
    },
    {
      "cell_type": "code",
      "source": [
        "# date & time\n",
        "import datetime\n",
        "answer=(datetime.datetime.now())\n",
        "print(answer)"
      ],
      "metadata": {
        "colab": {
          "base_uri": "https://localhost:8080/"
        },
        "id": "VLEtSWBMh66h",
        "outputId": "3d048d67-59f7-4f8d-940d-157e5028aad2"
      },
      "execution_count": 35,
      "outputs": [
        {
          "output_type": "stream",
          "name": "stdout",
          "text": [
            "2025-10-27 07:28:37.990469\n"
          ]
        }
      ]
    },
    {
      "cell_type": "code",
      "source": [
        "print(answer.year)"
      ],
      "metadata": {
        "colab": {
          "base_uri": "https://localhost:8080/"
        },
        "id": "mbz6pbGLiQ5F",
        "outputId": "74bf4c99-fc6a-4ce4-d891-26c069e48f40"
      },
      "execution_count": 36,
      "outputs": [
        {
          "output_type": "stream",
          "name": "stdout",
          "text": [
            "2025\n"
          ]
        }
      ]
    },
    {
      "cell_type": "code",
      "source": [
        "#print(answer.strftime(\"%a\"))\n",
        "#print(answer.strftime(\"%A\"))\n",
        "#print(answer.strftime(\"%d\"))\n",
        "#print(answer.strftime(\"%D\"))\n",
        "#print(answer.strftime(\"%w\"))\n",
        "#print(answer.strftime(\"%W\"))\n",
        "#print(answer.strftime(\"%Y\"))\n",
        "print(answer.strftime(\"%c\"))"
      ],
      "metadata": {
        "colab": {
          "base_uri": "https://localhost:8080/"
        },
        "id": "984fgwW9mvOA",
        "outputId": "4caa89ff-4488-4714-fafc-2a42ee87d94f"
      },
      "execution_count": 79,
      "outputs": [
        {
          "output_type": "stream",
          "name": "stdout",
          "text": [
            "Mon Oct 27 07:28:37 2025\n"
          ]
        }
      ]
    },
    {
      "cell_type": "code",
      "source": [
        "import calendar\n",
        "year=2002\n",
        "month=12\n",
        "print(calendar.month(year,month))\n",
        "print(calendar.isleap(year))"
      ],
      "metadata": {
        "colab": {
          "base_uri": "https://localhost:8080/"
        },
        "id": "bBEfa1D9p5in",
        "outputId": "3db41ae7-d73f-42f9-95b0-0217cd3d061d"
      },
      "execution_count": 82,
      "outputs": [
        {
          "output_type": "stream",
          "name": "stdout",
          "text": [
            "   December 2002\n",
            "Mo Tu We Th Fr Sa Su\n",
            "                   1\n",
            " 2  3  4  5  6  7  8\n",
            " 9 10 11 12 13 14 15\n",
            "16 17 18 19 20 21 22\n",
            "23 24 25 26 27 28 29\n",
            "30 31\n",
            "\n",
            "False\n"
          ]
        }
      ]
    }
  ]
}