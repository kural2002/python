{
  "nbformat": 4,
  "nbformat_minor": 0,
  "metadata": {
    "colab": {
      "provenance": []
    },
    "kernelspec": {
      "name": "python3",
      "display_name": "Python 3"
    },
    "language_info": {
      "name": "python"
    }
  },
  "cells": [
    {
      "cell_type": "code",
      "execution_count": 4,
      "metadata": {
        "colab": {
          "base_uri": "https://localhost:8080/"
        },
        "id": "SE0fL6H8x-NS",
        "outputId": "58414005-e194-456e-8bc7-20c1b49fbba7"
      },
      "outputs": [
        {
          "output_type": "stream",
          "name": "stdout",
          "text": [
            "<class 'tuple'>\n",
            "5\n",
            "('kurak', 'amuthan', 100, 10.5, True)\n"
          ]
        }
      ],
      "source": [
        "check=(\"kurak\",\"amuthan\",100,10.5,True)\n",
        "print(type(check))\n",
        "print(len(check))\n",
        "print(check)"
      ]
    },
    {
      "cell_type": "code",
      "source": [
        "check=(\"gym\",\"car\",\"bus\",\"bike\",\"helmet\",\"bus\",\"shop\")\n",
        "answer=check.count(\"bus\")\n",
        "print(answer)"
      ],
      "metadata": {
        "colab": {
          "base_uri": "https://localhost:8080/"
        },
        "id": "O6dIKj6hyrPv",
        "outputId": "216e3db4-909c-4187-b92a-441b403e5191"
      },
      "execution_count": 7,
      "outputs": [
        {
          "output_type": "stream",
          "name": "stdout",
          "text": [
            "2\n"
          ]
        }
      ]
    },
    {
      "cell_type": "code",
      "source": [
        "check=(\"gym\",\"car\",\"bus\",\"bike\",\"helmet\",\"bus\",\"shop\")\n",
        "answer=check.index(\"bus\")\n",
        "print(answer)"
      ],
      "metadata": {
        "colab": {
          "base_uri": "https://localhost:8080/"
        },
        "id": "83ubXCHNzYM7",
        "outputId": "0c75d2ec-2928-48da-c13b-b2e5d0b0bee3"
      },
      "execution_count": 8,
      "outputs": [
        {
          "output_type": "stream",
          "name": "stdout",
          "text": [
            "2\n"
          ]
        }
      ]
    },
    {
      "cell_type": "code",
      "source": [
        "check=tuple((\"gym\",\"car\",\"bus\",\"bike\",\"helmet\",\"cycle\",\"shop\"))\n",
        "print(type(check))\n",
        "print(check)"
      ],
      "metadata": {
        "colab": {
          "base_uri": "https://localhost:8080/"
        },
        "id": "7h-naiUR0DLN",
        "outputId": "5097f9a2-7b8f-4000-d5cd-8ee0865059a4"
      },
      "execution_count": 11,
      "outputs": [
        {
          "output_type": "stream",
          "name": "stdout",
          "text": [
            "<class 'tuple'>\n",
            "('gym', 'car', 'bus', 'bike', 'helmet', 'cycle', 'shop')\n"
          ]
        }
      ]
    },
    {
      "cell_type": "code",
      "source": [
        "check=(\"gym\",\"car\",\"bus\",\"bike\",\"helmet\",\"cycle\",\"shop\")\n",
        "print(check[-1])\n",
        "print(check[1])\n",
        "print(check[-3])\n",
        "print(check[0])"
      ],
      "metadata": {
        "colab": {
          "base_uri": "https://localhost:8080/"
        },
        "id": "Iwy0NOIl1J42",
        "outputId": "bef37c39-d497-4ab2-ad6c-a20d728ef8c9"
      },
      "execution_count": 13,
      "outputs": [
        {
          "output_type": "stream",
          "name": "stdout",
          "text": [
            "shop\n",
            "car\n",
            "helmet\n",
            "gym\n"
          ]
        }
      ]
    },
    {
      "cell_type": "code",
      "source": [
        "check=(\"gym\",\"car\",\"bus\",\"bike\",\"helmet\",\"cycle\",\"shop\")\n",
        "print(check[2:5])\n",
        "print(check[:2])\n",
        "print(check[2:])"
      ],
      "metadata": {
        "colab": {
          "base_uri": "https://localhost:8080/"
        },
        "id": "xajpR6HU3Ok6",
        "outputId": "5b8e84cc-9556-455c-f04b-8ea3984a73bc"
      },
      "execution_count": 17,
      "outputs": [
        {
          "output_type": "stream",
          "name": "stdout",
          "text": [
            "('bus', 'bike', 'helmet')\n",
            "('gym', 'car')\n",
            "('bus', 'bike', 'helmet', 'cycle', 'shop')\n"
          ]
        }
      ]
    },
    {
      "cell_type": "code",
      "source": [
        "check=(\"gym\",\"car\",\"bus\",\"bike\",\"helmet\",\"cycle\",\"shop\")\n",
        "if \"helmet\" in check:\n",
        " print(\"yes\")\n",
        "else:\n",
        " print(\"no\")"
      ],
      "metadata": {
        "colab": {
          "base_uri": "https://localhost:8080/"
        },
        "id": "s8-uGo035HtV",
        "outputId": "da8c5ed8-d8c9-4e9d-a426-3593fa98a80e"
      },
      "execution_count": 19,
      "outputs": [
        {
          "output_type": "stream",
          "name": "stdout",
          "text": [
            "yes\n"
          ]
        }
      ]
    },
    {
      "cell_type": "code",
      "source": [
        "tuplevalue=(\"gym\",\"car\",\"bus\",\"bike\",\"helmet\",\"cycle\",\"shop\")\n",
        "listvalue=list(tuplevalue)\n",
        "listvalue[4]=\"kural\"\n",
        "tuplevalue=tuple(listvalue)\n",
        "print(tuplevalue)"
      ],
      "metadata": {
        "colab": {
          "base_uri": "https://localhost:8080/"
        },
        "id": "CS8MjKnX-TNq",
        "outputId": "30446930-4b55-4bdd-f0fb-a38d8fc47c61"
      },
      "execution_count": 30,
      "outputs": [
        {
          "output_type": "stream",
          "name": "stdout",
          "text": [
            "('gym', 'car', 'bus', 'bike', 'kural', 'cycle', 'shop')\n"
          ]
        }
      ]
    },
    {
      "cell_type": "code",
      "source": [
        "tuplevalue=(\"gym\",\"car\",\"bus\",\"bike\",\"helmet\",\"cycle\",\"shop\")\n",
        "listvalue=list(tuplevalue)\n",
        "listvalue.append(\"kural\")\n",
        "tuplevalue=tuple(listvalue)\n",
        "print(tuplevalue)"
      ],
      "metadata": {
        "colab": {
          "base_uri": "https://localhost:8080/"
        },
        "id": "sxgOy0bd-8Fc",
        "outputId": "5a5fa8a9-f77e-4503-d2ac-3646d7d097ae"
      },
      "execution_count": 31,
      "outputs": [
        {
          "output_type": "stream",
          "name": "stdout",
          "text": [
            "('gym', 'car', 'bus', 'bike', 'helmet', 'cycle', 'shop', 'kural')\n"
          ]
        }
      ]
    },
    {
      "cell_type": "code",
      "source": [
        "tuplevalue=(\"gym\",\"car\",\"bus\",\"bike\",\"helmet\",\"cycle\",\"shop\")\n",
        "setvalue=set(tuplevalue)\n",
        "setvalue.add(\"kural\")\n",
        "tuplevalue=tuple(setvalue)\n",
        "print(tuplevalue)"
      ],
      "metadata": {
        "colab": {
          "base_uri": "https://localhost:8080/"
        },
        "id": "Q_XgNrF__6xj",
        "outputId": "6ec66d27-c8fa-4af0-dece-57615e2d4feb"
      },
      "execution_count": 32,
      "outputs": [
        {
          "output_type": "stream",
          "name": "stdout",
          "text": [
            "('shop', 'bike', 'car', 'bus', 'helmet', 'gym', 'kural', 'cycle')\n"
          ]
        }
      ]
    },
    {
      "cell_type": "code",
      "source": [
        "tuplevalue1=(\"gym\",\"car\",\"bus\",\"bike\",\"helmet\",\"cycle\",\"shop\")\n",
        "tuplevalue2=(100,600,10.5)\n",
        "answer=tuplevalue1+tuplevalue2\n",
        "print(answer)"
      ],
      "metadata": {
        "colab": {
          "base_uri": "https://localhost:8080/"
        },
        "id": "00YlbD6SBbyt",
        "outputId": "2d9b1fae-a710-488a-9e96-65251ac0c516"
      },
      "execution_count": 33,
      "outputs": [
        {
          "output_type": "stream",
          "name": "stdout",
          "text": [
            "('gym', 'car', 'bus', 'bike', 'helmet', 'cycle', 'shop', 100, 600, 10.5)\n"
          ]
        }
      ]
    },
    {
      "cell_type": "code",
      "source": [
        "tuplevalue=(\"gym\",\"car\",\"bus\",\"bike\",\"helmet\",\"cycle\",\"shop\")\n",
        "setvalue=set(tuplevalue)\n",
        "setvalue.remove(\"helmet\")\n",
        "tuplevalue=tuple(setvalue)\n",
        "print(tuplevalue)"
      ],
      "metadata": {
        "colab": {
          "base_uri": "https://localhost:8080/"
        },
        "id": "JJIhHUXFB26s",
        "outputId": "04908b35-2151-4475-dd65-15d91afdf14a"
      },
      "execution_count": 35,
      "outputs": [
        {
          "output_type": "stream",
          "name": "stdout",
          "text": [
            "('shop', 'bike', 'car', 'bus', 'gym', 'cycle')\n"
          ]
        }
      ]
    },
    {
      "cell_type": "code",
      "source": [
        "tuplevalue=(\"gym\",\"car\",\"bus\",\"bike\",\"helmet\",\"cycle\",\"shop\")\n",
        "(c1,c2,*c3)=tuplevalue\n",
        "print(c1)\n",
        "print(c2)\n",
        "print(c3)"
      ],
      "metadata": {
        "colab": {
          "base_uri": "https://localhost:8080/"
        },
        "id": "sLK8veUhCDcn",
        "outputId": "b5a40dd4-2a04-431f-d19d-00bd99111be4"
      },
      "execution_count": 37,
      "outputs": [
        {
          "output_type": "stream",
          "name": "stdout",
          "text": [
            "gym\n",
            "car\n",
            "['bus', 'bike', 'helmet', 'cycle', 'shop']\n"
          ]
        }
      ]
    },
    {
      "cell_type": "code",
      "source": [
        "tuplevalue=(\"gym\",\"car\",\"bus\",\"bike\",\"helmet\",\"cycle\",\"shop\")\n",
        "for i in tuplevalue:\n",
        "  print(i)\n"
      ],
      "metadata": {
        "colab": {
          "base_uri": "https://localhost:8080/"
        },
        "id": "YIWnhBIuDyxi",
        "outputId": "7ce2dc1a-08fc-47a9-9205-fd56237e0891"
      },
      "execution_count": 38,
      "outputs": [
        {
          "output_type": "stream",
          "name": "stdout",
          "text": [
            "gym\n",
            "car\n",
            "bus\n",
            "bike\n",
            "helmet\n",
            "cycle\n",
            "shop\n"
          ]
        }
      ]
    },
    {
      "cell_type": "code",
      "source": [
        "tuplevalue=(\"gym\",\"car\",\"bus\",\"bike\",\"helmet\",\"cycle\",\"shop\")\n",
        "i=0\n",
        "while i<len(tuplevalue):\n",
        "  print(tuplevalue[i])\n",
        "  i=i+1"
      ],
      "metadata": {
        "colab": {
          "base_uri": "https://localhost:8080/"
        },
        "id": "bKi-1PcVJjaH",
        "outputId": "10044775-cbc6-4a87-b749-aefa7479c1fd"
      },
      "execution_count": 39,
      "outputs": [
        {
          "output_type": "stream",
          "name": "stdout",
          "text": [
            "gym\n",
            "car\n",
            "bus\n",
            "bike\n",
            "helmet\n",
            "cycle\n",
            "shop\n"
          ]
        }
      ]
    },
    {
      "cell_type": "code",
      "source": [
        "tuplevalue=(\"gym\",\"car\",\"bus\",\"bike\",\"helmet\",\"cycle\",\"shop\")\n",
        "for i in range(len(tuplevalue)):\n",
        "  print(tuplevalue[i])"
      ],
      "metadata": {
        "colab": {
          "base_uri": "https://localhost:8080/"
        },
        "id": "z3EMeEMcKUWX",
        "outputId": "218ef521-a096-4001-e057-8366bec9d9ed"
      },
      "execution_count": 42,
      "outputs": [
        {
          "output_type": "stream",
          "name": "stdout",
          "text": [
            "gym\n",
            "car\n",
            "bus\n",
            "bike\n",
            "helmet\n",
            "cycle\n",
            "shop\n"
          ]
        }
      ]
    }
  ]
}