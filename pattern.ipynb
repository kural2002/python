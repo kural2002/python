{
  "nbformat": 4,
  "nbformat_minor": 0,
  "metadata": {
    "colab": {
      "provenance": []
    },
    "kernelspec": {
      "name": "python3",
      "display_name": "Python 3"
    },
    "language_info": {
      "name": "python"
    }
  },
  "cells": [
    {
      "cell_type": "code",
      "source": [
        "# pattern\n",
        "\n",
        "for i in range(5,0, -1):\n",
        "  for j in range(5,0, -1):\n",
        "    print(i, end=\" \")\n",
        "  print()"
      ],
      "metadata": {
        "colab": {
          "base_uri": "https://localhost:8080/"
        },
        "id": "ZlSYBtaClHcI",
        "outputId": "a2164a25-24f8-45be-b7e9-cf721e8c64f6"
      },
      "execution_count": 11,
      "outputs": [
        {
          "output_type": "stream",
          "name": "stdout",
          "text": [
            "5 5 5 5 5 \n",
            "4 4 4 4 4 \n",
            "3 3 3 3 3 \n",
            "2 2 2 2 2 \n",
            "1 1 1 1 1 \n"
          ]
        }
      ]
    },
    {
      "cell_type": "code",
      "source": [
        "for i in range(5,0,-1):\n",
        "  for j in range(5,0,-1):\n",
        "    print(j, end=\" \")\n",
        "  print()\n",
        "\n"
      ],
      "metadata": {
        "colab": {
          "base_uri": "https://localhost:8080/"
        },
        "id": "ZAPJyF4nlx1w",
        "outputId": "39bb9914-73cf-4b29-c7e3-0ba16c352e78"
      },
      "execution_count": 13,
      "outputs": [
        {
          "output_type": "stream",
          "name": "stdout",
          "text": [
            "5 4 3 2 1 \n",
            "5 4 3 2 1 \n",
            "5 4 3 2 1 \n",
            "5 4 3 2 1 \n",
            "5 4 3 2 1 \n"
          ]
        }
      ]
    },
    {
      "cell_type": "code",
      "source": [
        "k=1\n",
        "for i in range(1,6):\n",
        "  for j in range(1,6):\n",
        "    print(k, end=\" \")\n",
        "    k+=1\n",
        "  print()"
      ],
      "metadata": {
        "colab": {
          "base_uri": "https://localhost:8080/"
        },
        "id": "QEzD7f13mg2B",
        "outputId": "e5da5ba3-97b9-49fc-c71b-23b468434712"
      },
      "execution_count": 16,
      "outputs": [
        {
          "output_type": "stream",
          "name": "stdout",
          "text": [
            "1 2 3 4 5 \n",
            "6 7 8 9 10 \n",
            "11 12 13 14 15 \n",
            "16 17 18 19 20 \n",
            "21 22 23 24 25 \n"
          ]
        }
      ]
    },
    {
      "cell_type": "code",
      "source": [
        "k=0 # k=1(odd num)\n",
        "for i in range(1,6):\n",
        "  for j in range(1,6):\n",
        "    print(k, end=\" \")\n",
        "    k+=2\n",
        "  print()"
      ],
      "metadata": {
        "colab": {
          "base_uri": "https://localhost:8080/"
        },
        "id": "P2LLlbkPnXBe",
        "outputId": "72f5ffda-0f0c-4966-e8b8-9708bc96acf3"
      },
      "execution_count": 27,
      "outputs": [
        {
          "output_type": "stream",
          "name": "stdout",
          "text": [
            "0 2 4 6 8 \n",
            "10 12 14 16 18 \n",
            "20 22 24 26 28 \n",
            "30 32 34 36 38 \n",
            "40 42 44 46 48 \n"
          ]
        }
      ]
    },
    {
      "cell_type": "code",
      "source": [
        "for i in range(97,102):\n",
        "  for j in range(97,102):\n",
        "    print(chr(i), end=\" \")\n",
        "  print()"
      ],
      "metadata": {
        "colab": {
          "base_uri": "https://localhost:8080/"
        },
        "id": "QnOdvbtMpjyK",
        "outputId": "9529f9e4-cca6-4670-e02f-0c0d70338042"
      },
      "execution_count": 28,
      "outputs": [
        {
          "output_type": "stream",
          "name": "stdout",
          "text": [
            "a a a a a \n",
            "b b b b b \n",
            "c c c c c \n",
            "d d d d d \n",
            "e e e e e \n"
          ]
        }
      ]
    },
    {
      "cell_type": "code",
      "source": [
        "for i in range(97,102):\n",
        "  for j in range(97,102):\n",
        "    print(chr(j), end=\" \")\n",
        "  print()"
      ],
      "metadata": {
        "colab": {
          "base_uri": "https://localhost:8080/"
        },
        "id": "ZW4mC_4WqO0g",
        "outputId": "854572a4-188d-4ae1-d0a2-fcb1d379f85d"
      },
      "execution_count": 29,
      "outputs": [
        {
          "output_type": "stream",
          "name": "stdout",
          "text": [
            "a b c d e \n",
            "a b c d e \n",
            "a b c d e \n",
            "a b c d e \n",
            "a b c d e \n"
          ]
        }
      ]
    },
    {
      "cell_type": "code",
      "source": [
        "for i in range(101,96,-1):\n",
        "  for j in range(101,96,-1):\n",
        "    print(chr(i), end=\" \")\n",
        "  print()\n",
        "\n",
        ""
      ],
      "metadata": {
        "colab": {
          "base_uri": "https://localhost:8080/"
        },
        "id": "Wun4uuNbqTl-",
        "outputId": "08bd9fb7-4dd3-41f1-d11e-27be938e22ba"
      },
      "execution_count": 41,
      "outputs": [
        {
          "output_type": "stream",
          "name": "stdout",
          "text": [
            "e e e e e \n",
            "d d d d d \n",
            "c c c c c \n",
            "b b b b b \n",
            "a a a a a \n"
          ]
        }
      ]
    },
    {
      "cell_type": "code",
      "source": [
        "for i in range(101,96,-1):\n",
        "  for j in range(101,96,-1):\n",
        "    print(chr(j), end=\" \")\n",
        "  print()"
      ],
      "metadata": {
        "colab": {
          "base_uri": "https://localhost:8080/"
        },
        "id": "tXRMIaZ1rh83",
        "outputId": "2cb5379d-ae56-4341-b9ed-e9754b7791d9"
      },
      "execution_count": 42,
      "outputs": [
        {
          "output_type": "stream",
          "name": "stdout",
          "text": [
            "e d c b a \n",
            "e d c b a \n",
            "e d c b a \n",
            "e d c b a \n",
            "e d c b a \n"
          ]
        }
      ]
    },
    {
      "cell_type": "code",
      "source": [
        "k=65\n",
        "for i in range(1,6):\n",
        "  for j in range(1,6):\n",
        "    print(chr(k), end=\" \")\n",
        "    k+=1\n",
        "  print()"
      ],
      "metadata": {
        "colab": {
          "base_uri": "https://localhost:8080/"
        },
        "id": "4bpG_UGksEN_",
        "outputId": "4632f04a-c1b5-4f24-b322-930efd49681c"
      },
      "execution_count": 45,
      "outputs": [
        {
          "output_type": "stream",
          "name": "stdout",
          "text": [
            "A B C D E \n",
            "F G H I J \n",
            "K L M N O \n",
            "P Q R S T \n",
            "U V W X Y \n"
          ]
        }
      ]
    },
    {
      "cell_type": "code",
      "source": [
        "for i in range(96,102):\n",
        "  for j in range(96,i+0): #((96,i+1):its start aa,bbb,cccc,dddd)\n",
        "    print(chr(i), end=\" \")\n",
        "  print()"
      ],
      "metadata": {
        "colab": {
          "base_uri": "https://localhost:8080/"
        },
        "id": "To1Fb5sZtRxs",
        "outputId": "900272a4-f03b-45ea-af69-76c2b59de24f"
      },
      "execution_count": 77,
      "outputs": [
        {
          "output_type": "stream",
          "name": "stdout",
          "text": [
            "\n",
            "a \n",
            "b b \n",
            "c c c \n",
            "d d d d \n",
            "e e e e e \n"
          ]
        }
      ]
    },
    {
      "cell_type": "code",
      "source": [
        "for i in range(97,102):\n",
        "  for j in range(97,i+1):\n",
        "    print(chr(j), end=\" \")\n",
        "  print()"
      ],
      "metadata": {
        "colab": {
          "base_uri": "https://localhost:8080/"
        },
        "id": "1KuWoY7IqIUt",
        "outputId": "701c8299-2384-47a6-b546-ca49e95bf49a"
      },
      "execution_count": 75,
      "outputs": [
        {
          "output_type": "stream",
          "name": "stdout",
          "text": [
            "a \n",
            "a b \n",
            "a b c \n",
            "a b c d \n",
            "a b c d e \n"
          ]
        }
      ]
    },
    {
      "cell_type": "code",
      "source": [
        "k=97\n",
        "for i in range(1,6):\n",
        "  for j in range(1,6):\n",
        "    print(chr(k), end=\" \")\n",
        "    k+=1\n",
        "  print()\n"
      ],
      "metadata": {
        "colab": {
          "base_uri": "https://localhost:8080/"
        },
        "id": "wr8hXGk_l4LQ",
        "outputId": "e03a26fd-33b8-4d40-8494-ddde976871c7"
      },
      "execution_count": 74,
      "outputs": [
        {
          "output_type": "stream",
          "name": "stdout",
          "text": [
            "a b c d e \n",
            "f g h i j \n",
            "k l m n o \n",
            "p q r s t \n",
            "u v w x y \n"
          ]
        }
      ]
    },
    {
      "cell_type": "code",
      "source": [
        "for i in range(1,6):\n",
        "  for j in range(1,i+1):\n",
        "    print(i, end=\" \")\n",
        "  print()"
      ],
      "metadata": {
        "colab": {
          "base_uri": "https://localhost:8080/"
        },
        "id": "vtH7NktFyRTW",
        "outputId": "4903804d-cb51-45b6-d015-583d3e21a202"
      },
      "execution_count": 78,
      "outputs": [
        {
          "output_type": "stream",
          "name": "stdout",
          "text": [
            "1 \n",
            "2 2 \n",
            "3 3 3 \n",
            "4 4 4 4 \n",
            "5 5 5 5 5 \n"
          ]
        }
      ]
    },
    {
      "cell_type": "code",
      "source": [
        "for i in range(1,6):\n",
        "  for j in range(1,i+1):\n",
        "    print(j, end=\" \")\n",
        "  print()"
      ],
      "metadata": {
        "colab": {
          "base_uri": "https://localhost:8080/"
        },
        "id": "2eYqTDUsyspD",
        "outputId": "e46f800e-ac8d-417d-eff5-2cd751d646ce"
      },
      "execution_count": 83,
      "outputs": [
        {
          "output_type": "stream",
          "name": "stdout",
          "text": [
            "1 \n",
            "1 2 \n",
            "1 2 3 \n",
            "1 2 3 4 \n",
            "1 2 3 4 5 \n"
          ]
        }
      ]
    },
    {
      "cell_type": "code",
      "source": [
        "for i in range(5,0,-1):\n",
        "  for j in range(1,i+1):\n",
        "    print(i, end=\" \")\n",
        "  print()"
      ],
      "metadata": {
        "colab": {
          "base_uri": "https://localhost:8080/"
        },
        "id": "MRoY5U8szVth",
        "outputId": "95de3c19-b345-4a0d-97db-dd1a1d463b0a"
      },
      "execution_count": 88,
      "outputs": [
        {
          "output_type": "stream",
          "name": "stdout",
          "text": [
            "5 5 5 5 5 \n",
            "4 4 4 4 \n",
            "3 3 3 \n",
            "2 2 \n",
            "1 \n"
          ]
        }
      ]
    },
    {
      "cell_type": "code",
      "source": [
        "for i in range(5,0,-1):\n",
        "  for j in range(1,i+1):\n",
        "    print(j, end=\" \")\n",
        "  print()"
      ],
      "metadata": {
        "colab": {
          "base_uri": "https://localhost:8080/"
        },
        "id": "kRyLKhNSz_A7",
        "outputId": "8eed177d-dd45-4570-e718-89ac5e1d8387"
      },
      "execution_count": 94,
      "outputs": [
        {
          "output_type": "stream",
          "name": "stdout",
          "text": [
            "1 2 3 4 5 \n",
            "1 2 3 4 \n",
            "1 2 3 \n",
            "1 2 \n",
            "1 \n"
          ]
        }
      ]
    },
    {
      "cell_type": "code",
      "source": [
        "for i in range(5,0,-1):\n",
        "  for j in range(i-0):\n",
        "    print(i, end=\" \")\n",
        "  print()"
      ],
      "metadata": {
        "colab": {
          "base_uri": "https://localhost:8080/"
        },
        "id": "ACjUAZEZ028l",
        "outputId": "704bc61b-4e00-43c3-c36c-127b73cd45ae"
      },
      "execution_count": 133,
      "outputs": [
        {
          "output_type": "stream",
          "name": "stdout",
          "text": [
            "5 5 5 5 5 \n",
            "4 4 4 4 \n",
            "3 3 3 \n",
            "2 2 \n",
            "1 \n"
          ]
        }
      ]
    }
  ]
}